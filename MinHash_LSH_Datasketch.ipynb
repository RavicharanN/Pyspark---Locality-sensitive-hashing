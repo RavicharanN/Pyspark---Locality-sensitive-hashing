{
 "cells": [
  {
   "cell_type": "code",
   "execution_count": 1,
   "metadata": {},
   "outputs": [],
   "source": [
    "import pandas\n",
    "import csv \n",
    "import numpy as np\n",
    "from datasketch import MinHash, MinHashLSH"
   ]
  },
  {
   "cell_type": "code",
   "execution_count": 2,
   "metadata": {},
   "outputs": [],
   "source": [
    "# dump the CSV file into a numpy array. \n",
    "csv_reader = pandas.read_csv('data/string_study.csv', delimiter=',', header=None)\n",
    "final_arr = csv_reader.values\n",
    "final_arr = np.array(final_arr)"
   ]
  },
  {
   "cell_type": "code",
   "execution_count": 3,
   "metadata": {},
   "outputs": [
    {
     "data": {
      "text/plain": [
       "array([['1524387149611', 'attach-volume', 'wig_project_003',\n",
       "        \"2018-04-22 10:52:29.611 17979 ERROR rallytester.rallytester [-] [nova attach-volume wig_project_003] Task failed:  Rally tired waiting 1440.00 seconds for Server rally-9db3-aPln:176b6fd3-8a2d-4b60-a5bd-73575c4ad161 to become ('ACTIVE') current status BUILD\",\n",
       "        '2018-04-22 08:00:00', \"waiting for Server to become ('ACTIVE')\",\n",
       "        \"Rally tired waiting 1440.00 seconds for Server rally-9db3-aPln:176b6fd3-8a2d-4b60-a5bd-73575c4ad161 to become ('ACTIVE') current status BUILD\"],\n",
       "       ['1524387185889', 'boot-from-volume-linux', 'gva_shared_016',\n",
       "        '2018-04-22 10:53:05.889 25667 ERROR rallytester.rallytester [-] [nova boot-from-volume-linux gva_shared_016] Task failed:  Quota exceeded for cores, instances: Requested 1, 1, but already used 10, 10 of 10, 10 cores, instances (HTTP 403) (Request-ID: req-23b5fe81-0bab-4f42-84e9-97e3e6847c04)',\n",
       "        '2018-04-22 08:00:00',\n",
       "        'Quota exceeded for cores, instances: Requested ..... cores, instances (HTTP 403) (Request-ID: req-xy',\n",
       "        'Quota exceeded for cores, instances: Requested 1, 1, but already used 10, 10 of 10, 10 cores, instances (HTTP 403) (Request-ID: req-23b5fe81-0bab-4f42-84e9-97e3e6847c04)'],\n",
       "       ['1524387196073', 'boot-linux', 'gva_shared_016',\n",
       "        '2018-04-22 10:53:16.073 25840 ERROR rallytester.rallytester [-] [nova boot-linux gva_shared_016] Task failed:  Quota exceeded for cores, instances: Requested 1, 1, but already used 10, 10 of 10, 10 cores, instances (HTTP 403) (Request-ID: req-f1b55ece-6bd1-475b-9692-7e443d44d52b)',\n",
       "        '2018-04-22 08:00:00',\n",
       "        'Quota exceeded for cores, instances: Requested ..... cores, instances (HTTP 403) (Request-ID: req-xy',\n",
       "        'Quota exceeded for cores, instances: Requested 1, 1, but already used 10, 10 of 10, 10 cores, instances (HTTP 403) (Request-ID: req-f1b55ece-6bd1-475b-9692-7e443d44d52b)']],\n",
       "      dtype=object)"
      ]
     },
     "execution_count": 3,
     "metadata": {},
     "output_type": "execute_result"
    }
   ],
   "source": [
    "final_arr[1:4]"
   ]
  },
  {
   "cell_type": "code",
   "execution_count": 6,
   "metadata": {},
   "outputs": [
    {
     "data": {
      "text/plain": [
       "array(['Quota exceeded for cores, instances: Requested 1, 1, but already used 10, 10 of 10, 10 cores, instances (HTTP 403) (Request-ID: req-23b5fe81-0bab-4f42-84e9-97e3e6847c04)'],\n",
       "      dtype=object)"
      ]
     },
     "execution_count": 6,
     "metadata": {},
     "output_type": "execute_result"
    }
   ],
   "source": [
    "# extract all the raw_messsages from the error logs\n",
    "raw_msgs = final_arr[0:, -1]\n",
    "raw_msgs.shape\n",
    "raw_msgs[1:2]"
   ]
  },
  {
   "cell_type": "code",
   "execution_count": 8,
   "metadata": {},
   "outputs": [
    {
     "data": {
      "text/plain": [
       "[{'(HTTP',\n",
       "  '(Request-ID:',\n",
       "  '1,',\n",
       "  '10',\n",
       "  '10,',\n",
       "  '403)',\n",
       "  'Quota',\n",
       "  'Requested',\n",
       "  'already',\n",
       "  'but',\n",
       "  'cores,',\n",
       "  'exceeded',\n",
       "  'for',\n",
       "  'instances',\n",
       "  'instances:',\n",
       "  'of',\n",
       "  'req-23b5fe81-0bab-4f42-84e9-97e3e6847c04)',\n",
       "  'used'}]"
      ]
     },
     "execution_count": 8,
     "metadata": {},
     "output_type": "execute_result"
    }
   ],
   "source": [
    "# Generate the set of words of all raw messages\n",
    "message_set = []\n",
    "for item in raw_msgs:\n",
    "    set_of_words = set(item.split(' '))\n",
    "    message_set.append(set_of_words)\n",
    "message_set[1:2]"
   ]
  },
  {
   "cell_type": "code",
   "execution_count": 9,
   "metadata": {},
   "outputs": [],
   "source": [
    "# Generate MinHash instances for all messages\n",
    "m = []\n",
    "for i in range (0, len(message_set)):\n",
    "    m_temp = MinHash(num_perm=128)\n",
    "    m.append(m_temp)"
   ]
  },
  {
   "cell_type": "code",
   "execution_count": 10,
   "metadata": {},
   "outputs": [],
   "source": [
    "i = 0\n",
    "for message in message_set:\n",
    "    for word in message:\n",
    "        m[i].update(word.encode('utf-8'))\n",
    "    i = i + 1"
   ]
  },
  {
   "cell_type": "code",
   "execution_count": 11,
   "metadata": {},
   "outputs": [],
   "source": [
    "# Create an LSH index \n",
    "lsh = MinHashLSH(threshold=.4, num_perm=128)\n",
    "for i in range (1, len(m)):\n",
    "    string = \"m\" + str(i)\n",
    "    lsh.insert(string, m[i])"
   ]
  },
  {
   "cell_type": "code",
   "execution_count": 14,
   "metadata": {},
   "outputs": [
    {
     "data": {
      "text/plain": [
       "6395"
      ]
     },
     "execution_count": 14,
     "metadata": {},
     "output_type": "execute_result"
    }
   ],
   "source": [
    "# Find all the messages similar to the fist message with a specified threshold\n",
    "result = lsh.query(m[0])\n",
    "len(result)"
   ]
  },
  {
   "cell_type": "code",
   "execution_count": null,
   "metadata": {},
   "outputs": [],
   "source": []
  }
 ],
 "metadata": {
  "kernelspec": {
   "display_name": "Python 3",
   "language": "python",
   "name": "python3"
  },
  "language_info": {
   "codemirror_mode": {
    "name": "ipython",
    "version": 3
   },
   "file_extension": ".py",
   "mimetype": "text/x-python",
   "name": "python",
   "nbconvert_exporter": "python",
   "pygments_lexer": "ipython3",
   "version": "3.6.1"
  }
 },
 "nbformat": 4,
 "nbformat_minor": 2
}
